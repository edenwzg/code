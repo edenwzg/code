{
 "cells": [
  {
   "cell_type": "markdown",
   "metadata": {},
   "source": [
    "# NumPy"
   ]
  },
  {
   "cell_type": "markdown",
   "metadata": {},
   "source": [
    "> [numpy.org](http://www.numpy.org/)"
   ]
  },
  {
   "cell_type": "markdown",
   "metadata": {},
   "source": [
    "- 用数组表达代替循环的做法,通常被称为矢量化.\n",
    "- 聚合计算(aggregation), 通常叫做约简(reduction)\n",
    "- 分位数指的就是连续分布函数中的一个点，这个点的一侧对应概率p\n",
    "- 数量积（dot product; scalar product，也称为点积）是接受在实数R上的两个向量并返回一个实数值标量的二元运算。它是欧几里得空间的标准内积\n",
    "- 简单的随机漫步: 从0开始,步长1和-1出现的概率相等"
   ]
  },
  {
   "cell_type": "code",
   "execution_count": 263,
   "metadata": {
    "collapsed": true
   },
   "outputs": [],
   "source": [
    "import numpy as np\n",
    "import matplotlib.pyplot as plt\n",
    "from numpy.linalg import inv, qr  #  矩阵分解运算求,逆运和行列式"
   ]
  },
  {
   "cell_type": "markdown",
   "metadata": {},
   "source": [
    "## Constructor\n",
    "- array() - create ndarray object\n",
    "- asarray()\n",
    "- zeros(), ones_zeros()\n",
    "- ones(), ones_like()\n",
    "- empty(), ones_empty()\n",
    "- arange()\n",
    "- eye(), identity() - Return a 2-D array with ones on the diagonal"
   ]
  },
  {
   "cell_type": "markdown",
   "metadata": {},
   "source": [
    "## Data type\n",
    "- int8, uint8\n",
    "- int16, uint16\n",
    "- int32, uint32\n",
    "- int64, uint64\n",
    "- float16\n",
    "- float32\n",
    "- float64\n",
    "- float128\n",
    "- complex64\n",
    "- complex128\n",
    "- complex256\n",
    "- bool\n",
    "- object\n",
    "- string_\n",
    "- unicode_"
   ]
  },
  {
   "cell_type": "markdown",
   "metadata": {},
   "source": [
    "## Slices & Index & Operation\n",
    "- [ : , : ]\n",
    "- [][]\n",
    "- [[],[]]\n",
    "- [ <, <=, >, >=, == ]\n",
    "- [ &, |, ~ ]\n",
    "- +, -, \\*, /, \\**, ="
   ]
  },
  {
   "cell_type": "markdown",
   "metadata": {},
   "source": [
    "## Common attributes\n",
    "- dtype\n",
    "- ndim\n",
    "- shape\n",
    "- T"
   ]
  },
  {
   "cell_type": "markdown",
   "metadata": {},
   "source": [
    "## Common methods\n",
    "- astype\n",
    "- copy\n",
    "- arange.reshape\n",
    "- transpose - 转置\n",
    "- swapaxes - 轴兑换\n",
    "- meshgrid - 生成网格采样点的函数,产生“格点”矩阵\n",
    "- where - x if condition else y 的矢量化版本\n",
    "- any\n",
    "- all\n",
    "- sort\n",
    "- 一元 ufunc\n",
    "    - abs, fabs - 绝对值\n",
    "    - sqrt - 开平方(**0.5)\n",
    "    - aquare - 平方(**2)\n",
    "    - exp - 指数\n",
    "    - log, log10, log2, log1p\n",
    "    - sign - 正负号判断\n",
    "    - seil - seiling, 即大于等于值的最小整数\n",
    "    - floor - 小于等于值的最大整数\n",
    "    - rint - 四舍五入\n",
    "    - modf - 分离整数和小数部分    \n",
    "    - isnan - 那些值是NaN\n",
    "    - isfinite, isinf - 无穷和有穷\n",
    "    - cos, cosh, sin, sinh, tan, tanh - 普通形和双曲型三角函数\n",
    "    - arccos, arccosh, arcsin, arcsinh, arctan, arctanh- 反三角函数\n",
    "    - logical_not 计算各元素的 not x的真值, 相当于-arr\n",
    "- 二元 ufunc\n",
    "    - add - 元素相加\n",
    "    - subtract - 元素相减\n",
    "    - multiply - 元素相乘\n",
    "    - divide, floor_divide - 元素相除\n",
    "    - power - 乘方\n",
    "    - maximum, fmax - 最大数, fmax将忽略NaN\n",
    "    - minimum, fmin - 最小数, fmax将忽略NaN\n",
    "    - mod - 元素求模\n",
    "    - copysign - 元素符号复制\n",
    "    - greater greater_equal, less, less_equal, equal, not_equal - 元素比较\n",
    "    - logical_and, logical_or, logical_xor - 元素逻辑运算\n",
    "- 数组统计方法\n",
    "    - sum - 对数组中全部或某个轴向的元素求和\n",
    "    - mean - 算数平均数\n",
    "    - std, var - 标准差, 方差\n",
    "    - min, max - 最大值, 最小值\n",
    "    - argmin, argmax - 最大和最小元素的索引\n",
    "    - cumsum, cumprod - 累计和,累计积\n",
    "- 数组的集合运算\n",
    "    - unique(x) - 计算x中的唯一元素,返回有序结果\n",
    "    - intersect1d(x,y) - 计算x和y的公共元素, 返回有序结果\n",
    "    - union1d(x,y) - 计算x和y的并集,返回有序结果\n",
    "    - in1d(x,y) - 得到一个表示\"x的元素是否包含于y\"的布尔型数组\n",
    "    - setdiff1d(x,y) - 集合的差, 即元素在x中且不在y中\n",
    "    - setxor1d(x,y) - 集合的对称差,即存在于一个数组中但不同时存在于两个数组中的元素(异或)\n",
    "- 文件输入输出\n",
    "    - save\n",
    "    - savez\n",
    "    - load\n",
    "    - loadtxt\n",
    "    - genfromtxt\n",
    "- 线性代数 numpy.linalg\n",
    "    - diag - 以一维数组形式返回方阵对角线(或非对角线)元素,或将一维数组转换为方阵.\n",
    "    - dot - 矩阵乘法, 点积, 内积\n",
    "    - trance - 计算对角线元素的和\n",
    "    - det - 计算矩阵行列式\n",
    "    - eig - 计算方阵的本征值和本征向量\n",
    "    - inv - 计算方阵的逆\n",
    "    - pinv - 计算矩阵的Moore-Penrose伪逆\n",
    "    - qr - 计算QR分解\n",
    "    - svd - 计算奇异值分解(SVD)\n",
    "    - solve - 解线性方程组 Ax=b, 其中A为一个方阵\n",
    "    - lstsq - 计算Ax = b的最小二乘解\n",
    "- 随机数 numpy.rendom\n",
    "    - seed - 确定随机数生成器的种子\n",
    "    - permutation - 返回一个序列的随机排列或返回一个随机排列的范围\n",
    "    - shuffle - 对一个序列就地随机排列\n",
    "    - rand - 产生均匀分布的样本值\n",
    "    - randint - 从给定的上下限范围内随机选取整数\n",
    "    - randn - 产生正态分布(平均值为0, 标准差为1)的样本值\n",
    "    - binomial - 产生二项分布的样本值\n",
    "    - normal - 产生正态(高斯)分布的样本值\n",
    "    - beta - 产生Beta分布的样本值\n",
    "    - chisquare - 产生卡方分布的样本值\n",
    "    - gamma - 产生Gamma分布的样本值\n",
    "    - uniform - 产生在[0,1)中均匀分布的样本值"
   ]
  },
  {
   "cell_type": "markdown",
   "metadata": {},
   "source": [
    "## Exercise"
   ]
  },
  {
   "cell_type": "code",
   "execution_count": 264,
   "metadata": {},
   "outputs": [
    {
     "data": {
      "text/plain": [
       "array([[ 7.07106781,  7.06400028,  7.05693985,  7.04988652,  7.04284034,\n",
       "         7.0358013 ,  7.02876945,  7.0217448 ,  7.01472736,  7.00771717]])"
      ]
     },
     "execution_count": 264,
     "metadata": {},
     "output_type": "execute_result"
    }
   ],
   "source": [
    "points = np.arange(-5, 5, 0.01)\n",
    "xs, ys = np.meshgrid(points, points)\n",
    "z = np.sqrt(xs ** 2 + ys ** 2)\n",
    "z[:1, :10]"
   ]
  },
  {
   "cell_type": "code",
   "execution_count": 265,
   "metadata": {},
   "outputs": [
    {
     "data": {
      "image/png": "[encoded data removed]",
      "text/plain": [
       "<matplotlib.figure.Figure at 0x8acda50>"
      ]
     },
     "metadata": {},
     "output_type": "display_data"
    }
   ],
   "source": [
    "plt.imshow(z,cmap = plt.cm.gray)\n",
    "plt.colorbar()\n",
    "plt.title('Image plot of $\\sqrt{x^2 + y^2}$ for a grid of values')\n",
    "plt.show()\n"
   ]
  },
  {
   "cell_type": "markdown",
   "metadata": {},
   "source": [
    "---"
   ]
  },
  {
   "cell_type": "code",
   "execution_count": 266,
   "metadata": {},
   "outputs": [
    {
     "data": {
      "text/plain": [
       "array([ 1.1,  2.2,  1.3,  1.4,  2.5])"
      ]
     },
     "execution_count": 266,
     "metadata": {},
     "output_type": "execute_result"
    }
   ],
   "source": [
    "xarr = np.array([1.1, 1.2, 1.3, 1.4, 1.5])\n",
    "yarr = np.array([2.1, 2.2, 2.3, 2.4, 2.5])\n",
    "cond = np.array([True, False, True, True, False])\n",
    "np.where(cond, xarr, yarr)"
   ]
  },
  {
   "cell_type": "code",
   "execution_count": 267,
   "metadata": {},
   "outputs": [
    {
     "data": {
      "text/plain": [
       "array([[ 2,  2, -2,  2],\n",
       "       [-2, -2, -2,  2],\n",
       "       [-2,  2,  2, -2],\n",
       "       [-2,  2, -2,  2]])"
      ]
     },
     "execution_count": 267,
     "metadata": {},
     "output_type": "execute_result"
    }
   ],
   "source": [
    "arr = np.random.randn(4, 4)\n",
    "np.where(arr > 0, 2, -2)"
   ]
  },
  {
   "cell_type": "code",
   "execution_count": 268,
   "metadata": {},
   "outputs": [
    {
     "data": {
      "text/plain": [
       "array([[ 2.        ,  2.        , -0.5022928 ,  2.        ],\n",
       "       [-0.10589235, -1.20923409, -0.92580594,  2.        ],\n",
       "       [-1.35260356,  2.        ,  2.        , -1.09996332],\n",
       "       [-0.24864689,  2.        , -0.41156483,  2.        ]])"
      ]
     },
     "execution_count": 268,
     "metadata": {},
     "output_type": "execute_result"
    }
   ],
   "source": [
    "np.where(arr > 0, 2, arr)"
   ]
  },
  {
   "cell_type": "markdown",
   "metadata": {},
   "source": [
    "---"
   ]
  },
  {
   "cell_type": "code",
   "execution_count": 269,
   "metadata": {},
   "outputs": [
    {
     "data": {
      "text/plain": [
       "array([[ 0,  1,  3],\n",
       "       [ 3,  7, 12],\n",
       "       [ 6, 13, 21]], dtype=int32)"
      ]
     },
     "execution_count": 269,
     "metadata": {},
     "output_type": "execute_result"
    }
   ],
   "source": [
    "arr = np.array([[0, 1, 2], [3, 4, 5], [6, 7, 8]])\n",
    "arr.cumsum(axis=1)"
   ]
  },
  {
   "cell_type": "code",
   "execution_count": 270,
   "metadata": {},
   "outputs": [
    {
     "data": {
      "text/plain": [
       "array([[ 0,  1,  2],\n",
       "       [ 0,  4, 10],\n",
       "       [ 0, 28, 80]], dtype=int32)"
      ]
     },
     "execution_count": 270,
     "metadata": {},
     "output_type": "execute_result"
    }
   ],
   "source": [
    "arr.cumprod(0)"
   ]
  },
  {
   "cell_type": "code",
   "execution_count": 271,
   "metadata": {},
   "outputs": [
    {
     "data": {
      "text/plain": [
       "49"
      ]
     },
     "execution_count": 271,
     "metadata": {},
     "output_type": "execute_result"
    }
   ],
   "source": [
    "arr = np.random.randn(100)\n",
    "(arr > 0).sum() # 正值的数量"
   ]
  },
  {
   "cell_type": "code",
   "execution_count": 272,
   "metadata": {},
   "outputs": [
    {
     "data": {
      "text/plain": [
       "True"
      ]
     },
     "execution_count": 272,
     "metadata": {},
     "output_type": "execute_result"
    }
   ],
   "source": [
    "bools = np.array([False, False, True, False])\n",
    "bools.any()"
   ]
  },
  {
   "cell_type": "code",
   "execution_count": 273,
   "metadata": {},
   "outputs": [
    {
     "data": {
      "text/plain": [
       "False"
      ]
     },
     "execution_count": 273,
     "metadata": {},
     "output_type": "execute_result"
    }
   ],
   "source": [
    "bools.all()"
   ]
  },
  {
   "cell_type": "markdown",
   "metadata": {},
   "source": [
    "---"
   ]
  },
  {
   "cell_type": "code",
   "execution_count": 274,
   "metadata": {},
   "outputs": [
    {
     "data": {
      "text/plain": [
       "array([-0.23522746,  0.07891158, -1.06048183, -0.49673206, -1.54970761,\n",
       "        0.27830947,  0.70309232, -0.08638775])"
      ]
     },
     "execution_count": 274,
     "metadata": {},
     "output_type": "execute_result"
    }
   ],
   "source": [
    "arr = np.random.randn(8) ; arr"
   ]
  },
  {
   "cell_type": "code",
   "execution_count": 275,
   "metadata": {},
   "outputs": [
    {
     "data": {
      "text/plain": [
       "array([-1.54970761, -1.06048183, -0.49673206, -0.23522746, -0.08638775,\n",
       "        0.07891158,  0.27830947,  0.70309232])"
      ]
     },
     "execution_count": 275,
     "metadata": {},
     "output_type": "execute_result"
    }
   ],
   "source": [
    "arr.sort() ; arr"
   ]
  },
  {
   "cell_type": "code",
   "execution_count": 276,
   "metadata": {},
   "outputs": [
    {
     "data": {
      "text/plain": [
       "array([[-0.93328894,  0.1211107 , -0.24525067],\n",
       "       [-0.61789012, -1.73664024, -0.07554097],\n",
       "       [-1.25254246,  1.03995709,  0.98235875],\n",
       "       [-1.41937644, -0.77857261,  1.19784071],\n",
       "       [-1.1690189 ,  0.7190988 , -0.22893303]])"
      ]
     },
     "execution_count": 276,
     "metadata": {},
     "output_type": "execute_result"
    }
   ],
   "source": [
    "arr = np.random.randn(5, 3) ; arr"
   ]
  },
  {
   "cell_type": "code",
   "execution_count": 277,
   "metadata": {},
   "outputs": [
    {
     "data": {
      "text/plain": [
       "array([[-0.93328894, -0.24525067,  0.1211107 ],\n",
       "       [-1.73664024, -0.61789012, -0.07554097],\n",
       "       [-1.25254246,  0.98235875,  1.03995709],\n",
       "       [-1.41937644, -0.77857261,  1.19784071],\n",
       "       [-1.1690189 , -0.22893303,  0.7190988 ]])"
      ]
     },
     "execution_count": 277,
     "metadata": {},
     "output_type": "execute_result"
    }
   ],
   "source": [
    "arr.sort(axis=1) ;arr"
   ]
  },
  {
   "cell_type": "code",
   "execution_count": 278,
   "metadata": {},
   "outputs": [
    {
     "data": {
      "text/plain": [
       "-1.7166777101531892"
      ]
     },
     "execution_count": 278,
     "metadata": {},
     "output_type": "execute_result"
    }
   ],
   "source": [
    "large_arr = np.random.randn(1000)\n",
    "large_arr.sort()\n",
    "large_arr[int(0.05 * len(large_arr))] # 5%分位数"
   ]
  },
  {
   "cell_type": "markdown",
   "metadata": {},
   "source": [
    "---"
   ]
  },
  {
   "cell_type": "code",
   "execution_count": 279,
   "metadata": {},
   "outputs": [
    {
     "data": {
      "text/plain": [
       "array(['Bob', 'Joe', 'Will'],\n",
       "      dtype='<U4')"
      ]
     },
     "execution_count": 279,
     "metadata": {},
     "output_type": "execute_result"
    }
   ],
   "source": [
    "names = np.array(['Bob', 'Joe', 'Will', 'Bob', 'Will', 'Joe', 'Joe'])\n",
    "np.unique(names)"
   ]
  },
  {
   "cell_type": "code",
   "execution_count": 280,
   "metadata": {
    "collapsed": true
   },
   "outputs": [],
   "source": [
    "names2 = np.array(['Bob', 'Will', 'Eden'])"
   ]
  },
  {
   "cell_type": "code",
   "execution_count": 281,
   "metadata": {},
   "outputs": [
    {
     "data": {
      "text/plain": [
       "array(['Bob', 'Will'],\n",
       "      dtype='<U4')"
      ]
     },
     "execution_count": 281,
     "metadata": {},
     "output_type": "execute_result"
    }
   ],
   "source": [
    "np.intersect1d(names, names2)"
   ]
  },
  {
   "cell_type": "markdown",
   "metadata": {},
   "source": [
    "---"
   ]
  },
  {
   "cell_type": "code",
   "execution_count": 282,
   "metadata": {
    "collapsed": true
   },
   "outputs": [],
   "source": [
    "arr = np.arange(10)\n",
    "np.save('some_array', arr)\n",
    "del arr"
   ]
  },
  {
   "cell_type": "code",
   "execution_count": 283,
   "metadata": {},
   "outputs": [
    {
     "data": {
      "text/plain": [
       "array([0, 1, 2, 3, 4, 5, 6, 7, 8, 9])"
      ]
     },
     "execution_count": 283,
     "metadata": {},
     "output_type": "execute_result"
    }
   ],
   "source": [
    "arr = np.load('some_array.npy')\n",
    "np.savez('array_archive.npz', a = arr, b = arr)\n",
    "arch = np.load('array_archive.npz')\n",
    "arch['b']"
   ]
  },
  {
   "cell_type": "markdown",
   "metadata": {},
   "source": [
    "---"
   ]
  },
  {
   "cell_type": "code",
   "execution_count": 284,
   "metadata": {
    "collapsed": true
   },
   "outputs": [],
   "source": [
    "arr = np.random.randn(6, 4)"
   ]
  },
  {
   "cell_type": "code",
   "execution_count": 285,
   "metadata": {
    "collapsed": true
   },
   "outputs": [],
   "source": [
    "np.savetxt('text.csv', arr, delimiter=',')"
   ]
  },
  {
   "cell_type": "code",
   "execution_count": 286,
   "metadata": {},
   "outputs": [
    {
     "data": {
      "text/plain": [
       "array([[-1.10524017, -0.77824558,  0.99133841,  0.64664828],\n",
       "       [ 1.18220255,  0.70916368, -0.25781219, -0.65115772]])"
      ]
     },
     "execution_count": 286,
     "metadata": {},
     "output_type": "execute_result"
    }
   ],
   "source": [
    "data = np.loadtxt('text.csv', delimiter=','); data[:2, :]"
   ]
  },
  {
   "cell_type": "markdown",
   "metadata": {},
   "source": [
    "---"
   ]
  },
  {
   "cell_type": "code",
   "execution_count": 287,
   "metadata": {},
   "outputs": [
    {
     "data": {
      "text/plain": [
       "array([[  28.,   64.],\n",
       "       [  67.,  181.]])"
      ]
     },
     "execution_count": 287,
     "metadata": {},
     "output_type": "execute_result"
    }
   ],
   "source": [
    "x = np.array([[1., 2., 3.],[4., 5., 6.]])\n",
    "y = np.array([[6., 23.], [-1, 7], [8, 9]])\n",
    "x.dot(y) # 相当于 np.dot(x, y)"
   ]
  },
  {
   "cell_type": "markdown",
   "metadata": {},
   "source": [
    "---"
   ]
  },
  {
   "cell_type": "code",
   "execution_count": 288,
   "metadata": {},
   "outputs": [
    {
     "data": {
      "text/plain": [
       "array([[  7.16600503e+00,  -4.52577126e+00,   6.20857415e+00,\n",
       "         -1.18575365e+00,   2.81551713e+00],\n",
       "       [ -4.52577126e+00,   3.83185727e+00,  -4.76478577e+00,\n",
       "          4.68580226e-01,  -2.95085275e+00],\n",
       "       [  6.20857415e+00,  -4.76478577e+00,   7.15176556e+00,\n",
       "         -9.93281452e-01,   3.00668536e+00],\n",
       "       [ -1.18575365e+00,   4.68580226e-01,  -9.93281452e-01,\n",
       "          3.90076337e-01,   2.69041348e-03],\n",
       "       [  2.81551713e+00,  -2.95085275e+00,   3.00668536e+00,\n",
       "          2.69041348e-03,   3.11948782e+00]])"
      ]
     },
     "execution_count": 288,
     "metadata": {},
     "output_type": "execute_result"
    }
   ],
   "source": [
    "X = randn(5,5)\n",
    "mat = X.T.dot(X)\n",
    "inv(mat)"
   ]
  },
  {
   "cell_type": "code",
   "execution_count": 289,
   "metadata": {},
   "outputs": [
    {
     "data": {
      "text/plain": [
       "array([[  1.00000000e+00,  -8.48913043e-16,   1.68166919e-15,\n",
       "          1.63314652e-16,   1.13309003e-15],\n",
       "       [ -1.63467567e-15,   1.00000000e+00,  -1.27155843e-15,\n",
       "          8.14823722e-16,  -9.90165078e-16],\n",
       "       [ -3.05059133e-15,   2.52902403e-15,   1.00000000e+00,\n",
       "          3.62063118e-16,   9.24558684e-17],\n",
       "       [  2.48310902e-15,   3.37857141e-16,   6.20114767e-16,\n",
       "          1.00000000e+00,   7.60541640e-17],\n",
       "       [ -3.19044606e-15,   2.51696957e-15,  -2.68831107e-15,\n",
       "          2.40457278e-16,   1.00000000e+00]])"
      ]
     },
     "execution_count": 289,
     "metadata": {},
     "output_type": "execute_result"
    }
   ],
   "source": [
    "mat.dot(inv(mat))"
   ]
  },
  {
   "cell_type": "code",
   "execution_count": 290,
   "metadata": {},
   "outputs": [
    {
     "data": {
      "text/plain": [
       "array([[ -4.95138217,  -9.45520813,  -3.84252981, -15.47760758,\n",
       "         -0.76965054],\n",
       "       [  0.        ,  -6.64681019,  -2.06949409,   3.8577121 ,\n",
       "         -4.44493024],\n",
       "       [  0.        ,   0.        ,  -0.94977295,  -3.05318584,   1.0105866 ],\n",
       "       [  0.        ,   0.        ,   0.        ,  -0.95759088,\n",
       "         -0.20820706],\n",
       "       [  0.        ,   0.        ,   0.        ,   0.        ,\n",
       "          0.16805883]])"
      ]
     },
     "execution_count": 290,
     "metadata": {},
     "output_type": "execute_result"
    }
   ],
   "source": [
    "q, r = qr(mat) ; r"
   ]
  },
  {
   "cell_type": "markdown",
   "metadata": {},
   "source": [
    "---"
   ]
  },
  {
   "cell_type": "code",
   "execution_count": 291,
   "metadata": {
    "scrolled": false
   },
   "outputs": [
    {
     "data": {
      "text/plain": [
       "array([[ 0.32423338, -0.59056281,  0.39320661,  0.00347383],\n",
       "       [ 0.60351161,  0.89459274,  0.20626259,  0.84246875],\n",
       "       [ 0.83818646, -0.91823483, -1.27744286,  1.32050581],\n",
       "       [-2.30702543,  0.52856557,  0.03282963,  1.8970775 ]])"
      ]
     },
     "execution_count": 291,
     "metadata": {},
     "output_type": "execute_result"
    }
   ],
   "source": [
    "sample = normal(size=(4, 4)); sample"
   ]
  },
  {
   "cell_type": "markdown",
   "metadata": {},
   "source": [
    "---"
   ]
  },
  {
   "cell_type": "code",
   "execution_count": 292,
   "metadata": {},
   "outputs": [
    {
     "data": {
      "text/plain": [
       "[0, 1, 2, 1, 0, -1, -2, -3, -4, -3]"
      ]
     },
     "execution_count": 292,
     "metadata": {},
     "output_type": "execute_result"
    }
   ],
   "source": [
    "# 用内置的random模块以纯Python的方式实现1000步的随机漫步\n",
    "position = 0\n",
    "walk = [position]\n",
    "steps = 1000\n",
    "for i in range(steps):\n",
    "    step = 1 if random.randint(0, 1) else -1\n",
    "    position += step\n",
    "    walk.append(position)\n",
    "walk[:10]"
   ]
  },
  {
   "cell_type": "code",
   "execution_count": 307,
   "metadata": {},
   "outputs": [
    {
     "data": {
      "image/png": "[encoded data removed]",
      "text/plain": [
       "<matplotlib.figure.Figure at 0xa82c770>"
      ]
     },
     "metadata": {},
     "output_type": "display_data"
    }
   ],
   "source": [
    "# 生成折线图\n",
    "plt.figure(figsize=(15,5), dpi=80)\n",
    "plt.plot(walk[:100])\n",
    "plt.show()"
   ]
  },
  {
   "cell_type": "code",
   "execution_count": 344,
   "metadata": {},
   "outputs": [
    {
     "data": {
      "text/plain": [
       "array([[ -1,   0,  -1, ...,  38,  39,  40],\n",
       "       [ -1,   0,   1, ..., -24, -23, -22],\n",
       "       [ -1,   0,  -1, ..., -28, -29, -28],\n",
       "       ..., \n",
       "       [ -1,   0,   1, ...,  54,  53,  54],\n",
       "       [  1,   0,   1, ..., -48, -47, -46],\n",
       "       [ -1,   0,   1, ...,  22,  21,  20]], dtype=int32)"
      ]
     },
     "execution_count": 344,
     "metadata": {},
     "output_type": "execute_result"
    }
   ],
   "source": [
    "nwalks = 5000\n",
    "nsteps = 1000\n",
    "draws = np.random.randint(0, 2, size=(nwalks, nsteps))\n",
    "steps = np.where(draws > 0, 1, -1)\n",
    "walks = steps.cumsum(axis=1)\n",
    "walks"
   ]
  },
  {
   "cell_type": "code",
   "execution_count": 356,
   "metadata": {},
   "outputs": [
    {
     "data": {
      "text/plain": [
       "array([ True, False,  True, ...,  True,  True,  True], dtype=bool)"
      ]
     },
     "execution_count": 356,
     "metadata": {},
     "output_type": "execute_result"
    }
   ],
   "source": [
    "# 计算30或-30的最小穿越时间\n",
    "hits30 = (np.abs(walks) >= 30).any(axis=1); hits30"
   ]
  },
  {
   "cell_type": "code",
   "execution_count": 336,
   "metadata": {},
   "outputs": [
    {
     "data": {
      "text/plain": [
       "3391"
      ]
     },
     "execution_count": 336,
     "metadata": {},
     "output_type": "execute_result"
    }
   ],
   "source": [
    "hits30.sum() # 达到30或-30的数量"
   ]
  },
  {
   "cell_type": "code",
   "execution_count": 337,
   "metadata": {},
   "outputs": [
    {
     "data": {
      "text/plain": [
       "499.1905042760248"
      ]
     },
     "execution_count": 337,
     "metadata": {},
     "output_type": "execute_result"
    }
   ],
   "source": [
    "crossing_times = (np.abs(walks[hits30]) >= 30).argmax(1)\n",
    "crossing_times.mean()"
   ]
  },
  {
   "cell_type": "code",
   "execution_count": 341,
   "metadata": {},
   "outputs": [
    {
     "data": {
      "text/plain": [
       "array([837, 393, 933, ..., 811, 707, 591], dtype=int32)"
      ]
     },
     "execution_count": 341,
     "metadata": {},
     "output_type": "execute_result"
    }
   ],
   "source": [
    "crossing_times"
   ]
  },
  {
   "cell_type": "code",
   "execution_count": null,
   "metadata": {
    "collapsed": true
   },
   "outputs": [],
   "source": []
  },
  {
   "cell_type": "code",
   "execution_count": null,
   "metadata": {
    "collapsed": true
   },
   "outputs": [],
   "source": []
  },
  {
   "cell_type": "code",
   "execution_count": null,
   "metadata": {
    "collapsed": true
   },
   "outputs": [],
   "source": []
  },
  {
   "cell_type": "code",
   "execution_count": null,
   "metadata": {
    "collapsed": true
   },
   "outputs": [],
   "source": []
  },
  {
   "cell_type": "code",
   "execution_count": null,
   "metadata": {
    "collapsed": true
   },
   "outputs": [],
   "source": []
  },
  {
   "cell_type": "code",
   "execution_count": null,
   "metadata": {
    "collapsed": true
   },
   "outputs": [],
   "source": []
  },
  {
   "cell_type": "code",
   "execution_count": null,
   "metadata": {
    "collapsed": true
   },
   "outputs": [],
   "source": []
  },
  {
   "cell_type": "code",
   "execution_count": null,
   "metadata": {
    "collapsed": true
   },
   "outputs": [],
   "source": []
  },
  {
   "cell_type": "code",
   "execution_count": null,
   "metadata": {
    "collapsed": true
   },
   "outputs": [],
   "source": []
  },
  {
   "cell_type": "code",
   "execution_count": null,
   "metadata": {
    "collapsed": true
   },
   "outputs": [],
   "source": []
  },
  {
   "cell_type": "code",
   "execution_count": null,
   "metadata": {
    "collapsed": true
   },
   "outputs": [],
   "source": []
  },
  {
   "cell_type": "code",
   "execution_count": null,
   "metadata": {
    "collapsed": true
   },
   "outputs": [],
   "source": []
  },
  {
   "cell_type": "code",
   "execution_count": null,
   "metadata": {
    "collapsed": true
   },
   "outputs": [],
   "source": []
  }
 ],
 "metadata": {
  "kernelspec": {
   "display_name": "Python 3",
   "language": "python",
   "name": "python3"
  },
  "language_info": {
   "codemirror_mode": {
    "name": "ipython",
    "version": 3
   },
   "file_extension": ".py",
   "mimetype": "text/x-python",
   "name": "python",
   "nbconvert_exporter": "python",
   "pygments_lexer": "ipython3",
   "version": "3.6.3"
  }
 },
 "nbformat": 4,
 "nbformat_minor": 2
}
